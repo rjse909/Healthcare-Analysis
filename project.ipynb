{
 "cells": [
  {
   "cell_type": "code",
   "execution_count": 1,
   "id": "2040531b-3767-4db0-8d2c-ac5b00b288c6",
   "metadata": {},
   "outputs": [],
   "source": [
    "import pandas as pd\n",
    "import numpy as np\n",
    "import matplotlib.pyplot as plt\n",
    "import seaborn as sns"
   ]
  },
  {
   "cell_type": "code",
   "execution_count": 2,
   "id": "a88e6205-b19d-403c-9ea0-e8be551f93ba",
   "metadata": {},
   "outputs": [],
   "source": [
    "df=pd.read_csv(\"/Users/nikhil/Downloads/healthcare_dataset.csv\")"
   ]
  },
  {
   "cell_type": "code",
   "execution_count": 3,
   "id": "4a454948-886d-446c-9ea6-d5760264e087",
   "metadata": {},
   "outputs": [
    {
     "data": {
      "text/html": [
       "<div>\n",
       "<style scoped>\n",
       "    .dataframe tbody tr th:only-of-type {\n",
       "        vertical-align: middle;\n",
       "    }\n",
       "\n",
       "    .dataframe tbody tr th {\n",
       "        vertical-align: top;\n",
       "    }\n",
       "\n",
       "    .dataframe thead th {\n",
       "        text-align: right;\n",
       "    }\n",
       "</style>\n",
       "<table border=\"1\" class=\"dataframe\">\n",
       "  <thead>\n",
       "    <tr style=\"text-align: right;\">\n",
       "      <th></th>\n",
       "      <th>Name</th>\n",
       "      <th>Age</th>\n",
       "      <th>Gender</th>\n",
       "      <th>Blood_Type</th>\n",
       "      <th>Medical_Condition</th>\n",
       "      <th>Date_of_Admission</th>\n",
       "      <th>Doctor</th>\n",
       "      <th>Hospital</th>\n",
       "      <th>Insurance_Provider</th>\n",
       "      <th>Billing_Amount</th>\n",
       "      <th>Room_Number</th>\n",
       "      <th>Admission_Type</th>\n",
       "      <th>Discharge_Date</th>\n",
       "      <th>Medication</th>\n",
       "      <th>Test_Results</th>\n",
       "    </tr>\n",
       "  </thead>\n",
       "  <tbody>\n",
       "    <tr>\n",
       "      <th>0</th>\n",
       "      <td>Bobby JacksOn</td>\n",
       "      <td>30</td>\n",
       "      <td>Male</td>\n",
       "      <td>B-</td>\n",
       "      <td>Cancer</td>\n",
       "      <td>31/01/24</td>\n",
       "      <td>Matthew Smith</td>\n",
       "      <td>Sons and Miller</td>\n",
       "      <td>Blue Cross</td>\n",
       "      <td>18856.281310</td>\n",
       "      <td>328</td>\n",
       "      <td>Urgent</td>\n",
       "      <td>02/02/24</td>\n",
       "      <td>Paracetamol</td>\n",
       "      <td>Normal</td>\n",
       "    </tr>\n",
       "    <tr>\n",
       "      <th>1</th>\n",
       "      <td>LesLie TErRy</td>\n",
       "      <td>62</td>\n",
       "      <td>Male</td>\n",
       "      <td>A+</td>\n",
       "      <td>Obesity</td>\n",
       "      <td>20/08/19</td>\n",
       "      <td>Samantha Davies</td>\n",
       "      <td>Kim Inc</td>\n",
       "      <td>Medicare</td>\n",
       "      <td>33643.327290</td>\n",
       "      <td>265</td>\n",
       "      <td>Emergency</td>\n",
       "      <td>26/08/19</td>\n",
       "      <td>Ibuprofen</td>\n",
       "      <td>Inconclusive</td>\n",
       "    </tr>\n",
       "    <tr>\n",
       "      <th>2</th>\n",
       "      <td>DaNnY sMitH</td>\n",
       "      <td>76</td>\n",
       "      <td>Female</td>\n",
       "      <td>A-</td>\n",
       "      <td>Obesity</td>\n",
       "      <td>22/09/22</td>\n",
       "      <td>Tiffany Mitchell</td>\n",
       "      <td>Cook PLC</td>\n",
       "      <td>Aetna</td>\n",
       "      <td>27955.096080</td>\n",
       "      <td>205</td>\n",
       "      <td>Emergency</td>\n",
       "      <td>07/10/22</td>\n",
       "      <td>Aspirin</td>\n",
       "      <td>Normal</td>\n",
       "    </tr>\n",
       "    <tr>\n",
       "      <th>3</th>\n",
       "      <td>andrEw waTtS</td>\n",
       "      <td>28</td>\n",
       "      <td>Female</td>\n",
       "      <td>O+</td>\n",
       "      <td>Diabetes</td>\n",
       "      <td>18/11/20</td>\n",
       "      <td>Kevin Wells</td>\n",
       "      <td>Hernandez Rogers and Vang,</td>\n",
       "      <td>Medicare</td>\n",
       "      <td>37909.782410</td>\n",
       "      <td>450</td>\n",
       "      <td>Elective</td>\n",
       "      <td>18/12/20</td>\n",
       "      <td>Ibuprofen</td>\n",
       "      <td>Abnormal</td>\n",
       "    </tr>\n",
       "    <tr>\n",
       "      <th>4</th>\n",
       "      <td>adrIENNE bEll</td>\n",
       "      <td>43</td>\n",
       "      <td>Female</td>\n",
       "      <td>AB+</td>\n",
       "      <td>Cancer</td>\n",
       "      <td>19/09/22</td>\n",
       "      <td>Kathleen Hanna</td>\n",
       "      <td>White-White</td>\n",
       "      <td>Aetna</td>\n",
       "      <td>14238.317810</td>\n",
       "      <td>458</td>\n",
       "      <td>Urgent</td>\n",
       "      <td>09/10/22</td>\n",
       "      <td>Penicillin</td>\n",
       "      <td>Abnormal</td>\n",
       "    </tr>\n",
       "    <tr>\n",
       "      <th>...</th>\n",
       "      <td>...</td>\n",
       "      <td>...</td>\n",
       "      <td>...</td>\n",
       "      <td>...</td>\n",
       "      <td>...</td>\n",
       "      <td>...</td>\n",
       "      <td>...</td>\n",
       "      <td>...</td>\n",
       "      <td>...</td>\n",
       "      <td>...</td>\n",
       "      <td>...</td>\n",
       "      <td>...</td>\n",
       "      <td>...</td>\n",
       "      <td>...</td>\n",
       "      <td>...</td>\n",
       "    </tr>\n",
       "    <tr>\n",
       "      <th>55495</th>\n",
       "      <td>eLIZABeTH jaCkSOn</td>\n",
       "      <td>42</td>\n",
       "      <td>Female</td>\n",
       "      <td>O+</td>\n",
       "      <td>Asthma</td>\n",
       "      <td>16/08/20</td>\n",
       "      <td>Joshua Jarvis</td>\n",
       "      <td>Jones-Thompson</td>\n",
       "      <td>Blue Cross</td>\n",
       "      <td>2650.714952</td>\n",
       "      <td>417</td>\n",
       "      <td>Elective</td>\n",
       "      <td>15/09/20</td>\n",
       "      <td>Penicillin</td>\n",
       "      <td>Abnormal</td>\n",
       "    </tr>\n",
       "    <tr>\n",
       "      <th>55496</th>\n",
       "      <td>KYle pEREz</td>\n",
       "      <td>61</td>\n",
       "      <td>Female</td>\n",
       "      <td>AB-</td>\n",
       "      <td>Obesity</td>\n",
       "      <td>23/01/20</td>\n",
       "      <td>Taylor Sullivan</td>\n",
       "      <td>Tucker-Moyer</td>\n",
       "      <td>Cigna</td>\n",
       "      <td>31457.797310</td>\n",
       "      <td>316</td>\n",
       "      <td>Elective</td>\n",
       "      <td>01/02/20</td>\n",
       "      <td>Aspirin</td>\n",
       "      <td>Normal</td>\n",
       "    </tr>\n",
       "    <tr>\n",
       "      <th>55497</th>\n",
       "      <td>HEATher WaNG</td>\n",
       "      <td>38</td>\n",
       "      <td>Female</td>\n",
       "      <td>B+</td>\n",
       "      <td>Hypertension</td>\n",
       "      <td>13/07/20</td>\n",
       "      <td>Joe Jacobs DVM</td>\n",
       "      <td>and Mahoney Johnson Vasquez,</td>\n",
       "      <td>UnitedHealthcare</td>\n",
       "      <td>27620.764720</td>\n",
       "      <td>347</td>\n",
       "      <td>Urgent</td>\n",
       "      <td>10/08/20</td>\n",
       "      <td>Ibuprofen</td>\n",
       "      <td>Abnormal</td>\n",
       "    </tr>\n",
       "    <tr>\n",
       "      <th>55498</th>\n",
       "      <td>JENniFER JOneS</td>\n",
       "      <td>43</td>\n",
       "      <td>Male</td>\n",
       "      <td>O-</td>\n",
       "      <td>Arthritis</td>\n",
       "      <td>25/05/19</td>\n",
       "      <td>Kimberly Curry</td>\n",
       "      <td>Jackson Todd and Castro,</td>\n",
       "      <td>Medicare</td>\n",
       "      <td>32451.092360</td>\n",
       "      <td>321</td>\n",
       "      <td>Elective</td>\n",
       "      <td>31/05/19</td>\n",
       "      <td>Ibuprofen</td>\n",
       "      <td>Abnormal</td>\n",
       "    </tr>\n",
       "    <tr>\n",
       "      <th>55499</th>\n",
       "      <td>jAMES GARCiA</td>\n",
       "      <td>53</td>\n",
       "      <td>Female</td>\n",
       "      <td>O+</td>\n",
       "      <td>Arthritis</td>\n",
       "      <td>02/04/24</td>\n",
       "      <td>Dennis Warren</td>\n",
       "      <td>Henry Sons and</td>\n",
       "      <td>Aetna</td>\n",
       "      <td>4010.134172</td>\n",
       "      <td>448</td>\n",
       "      <td>Urgent</td>\n",
       "      <td>29/04/24</td>\n",
       "      <td>Ibuprofen</td>\n",
       "      <td>Abnormal</td>\n",
       "    </tr>\n",
       "  </tbody>\n",
       "</table>\n",
       "<p>55500 rows × 15 columns</p>\n",
       "</div>"
      ],
      "text/plain": [
       "                    Name  Age  Gender Blood_Type Medical_Condition  \\\n",
       "0          Bobby JacksOn   30    Male         B-            Cancer   \n",
       "1           LesLie TErRy   62    Male         A+           Obesity   \n",
       "2            DaNnY sMitH   76  Female         A-           Obesity   \n",
       "3           andrEw waTtS   28  Female         O+          Diabetes   \n",
       "4          adrIENNE bEll   43  Female        AB+            Cancer   \n",
       "...                  ...  ...     ...        ...               ...   \n",
       "55495  eLIZABeTH jaCkSOn   42  Female         O+            Asthma   \n",
       "55496         KYle pEREz   61  Female        AB-           Obesity   \n",
       "55497       HEATher WaNG   38  Female         B+      Hypertension   \n",
       "55498     JENniFER JOneS   43    Male         O-         Arthritis   \n",
       "55499       jAMES GARCiA   53  Female         O+         Arthritis   \n",
       "\n",
       "      Date_of_Admission            Doctor                      Hospital  \\\n",
       "0              31/01/24     Matthew Smith               Sons and Miller   \n",
       "1              20/08/19   Samantha Davies                       Kim Inc   \n",
       "2              22/09/22  Tiffany Mitchell                      Cook PLC   \n",
       "3              18/11/20       Kevin Wells    Hernandez Rogers and Vang,   \n",
       "4              19/09/22    Kathleen Hanna                   White-White   \n",
       "...                 ...               ...                           ...   \n",
       "55495          16/08/20     Joshua Jarvis                Jones-Thompson   \n",
       "55496          23/01/20   Taylor Sullivan                  Tucker-Moyer   \n",
       "55497          13/07/20    Joe Jacobs DVM  and Mahoney Johnson Vasquez,   \n",
       "55498          25/05/19    Kimberly Curry      Jackson Todd and Castro,   \n",
       "55499          02/04/24     Dennis Warren                Henry Sons and   \n",
       "\n",
       "      Insurance_Provider  Billing_Amount  Room_Number Admission_Type  \\\n",
       "0             Blue Cross    18856.281310          328         Urgent   \n",
       "1               Medicare    33643.327290          265      Emergency   \n",
       "2                  Aetna    27955.096080          205      Emergency   \n",
       "3               Medicare    37909.782410          450       Elective   \n",
       "4                  Aetna    14238.317810          458         Urgent   \n",
       "...                  ...             ...          ...            ...   \n",
       "55495         Blue Cross     2650.714952          417       Elective   \n",
       "55496              Cigna    31457.797310          316       Elective   \n",
       "55497   UnitedHealthcare    27620.764720          347         Urgent   \n",
       "55498           Medicare    32451.092360          321       Elective   \n",
       "55499              Aetna     4010.134172          448         Urgent   \n",
       "\n",
       "      Discharge_Date   Medication  Test_Results  \n",
       "0           02/02/24  Paracetamol        Normal  \n",
       "1           26/08/19    Ibuprofen  Inconclusive  \n",
       "2           07/10/22      Aspirin        Normal  \n",
       "3           18/12/20    Ibuprofen      Abnormal  \n",
       "4           09/10/22   Penicillin      Abnormal  \n",
       "...              ...          ...           ...  \n",
       "55495       15/09/20   Penicillin      Abnormal  \n",
       "55496       01/02/20      Aspirin        Normal  \n",
       "55497       10/08/20    Ibuprofen      Abnormal  \n",
       "55498       31/05/19    Ibuprofen      Abnormal  \n",
       "55499       29/04/24    Ibuprofen      Abnormal  \n",
       "\n",
       "[55500 rows x 15 columns]"
      ]
     },
     "execution_count": 3,
     "metadata": {},
     "output_type": "execute_result"
    }
   ],
   "source": [
    "df"
   ]
  },
  {
   "cell_type": "code",
   "execution_count": 4,
   "id": "5e16cd19-db1b-4e4f-b251-48997a8a92d1",
   "metadata": {},
   "outputs": [
    {
     "data": {
      "text/plain": [
       "Index(['Name', 'Age', 'Gender', 'Blood_Type', 'Medical_Condition',\n",
       "       'Date_of_Admission', 'Doctor', 'Hospital', 'Insurance_Provider',\n",
       "       'Billing_Amount', 'Room_Number', 'Admission_Type', 'Discharge_Date',\n",
       "       'Medication', 'Test_Results'],\n",
       "      dtype='object')"
      ]
     },
     "execution_count": 4,
     "metadata": {},
     "output_type": "execute_result"
    }
   ],
   "source": [
    "df.columns"
   ]
  },
  {
   "cell_type": "code",
   "execution_count": 5,
   "id": "2485d257-3682-47b3-a3ca-e40b3f04277f",
   "metadata": {},
   "outputs": [],
   "source": [
    "df.drop(columns=[\"Room_Number\"],inplace=True,axis=1)"
   ]
  },
  {
   "cell_type": "code",
   "execution_count": 6,
   "id": "bc7c456c-4af2-4a29-a914-56be18a1172b",
   "metadata": {},
   "outputs": [
    {
     "data": {
      "text/html": [
       "<div>\n",
       "<style scoped>\n",
       "    .dataframe tbody tr th:only-of-type {\n",
       "        vertical-align: middle;\n",
       "    }\n",
       "\n",
       "    .dataframe tbody tr th {\n",
       "        vertical-align: top;\n",
       "    }\n",
       "\n",
       "    .dataframe thead th {\n",
       "        text-align: right;\n",
       "    }\n",
       "</style>\n",
       "<table border=\"1\" class=\"dataframe\">\n",
       "  <thead>\n",
       "    <tr style=\"text-align: right;\">\n",
       "      <th></th>\n",
       "      <th>Name</th>\n",
       "      <th>Age</th>\n",
       "      <th>Gender</th>\n",
       "      <th>Blood_Type</th>\n",
       "      <th>Medical_Condition</th>\n",
       "      <th>Date_of_Admission</th>\n",
       "      <th>Doctor</th>\n",
       "      <th>Hospital</th>\n",
       "      <th>Insurance_Provider</th>\n",
       "      <th>Billing_Amount</th>\n",
       "      <th>Admission_Type</th>\n",
       "      <th>Discharge_Date</th>\n",
       "      <th>Medication</th>\n",
       "      <th>Test_Results</th>\n",
       "    </tr>\n",
       "  </thead>\n",
       "  <tbody>\n",
       "    <tr>\n",
       "      <th>0</th>\n",
       "      <td>Bobby JacksOn</td>\n",
       "      <td>30</td>\n",
       "      <td>Male</td>\n",
       "      <td>B-</td>\n",
       "      <td>Cancer</td>\n",
       "      <td>31/01/24</td>\n",
       "      <td>Matthew Smith</td>\n",
       "      <td>Sons and Miller</td>\n",
       "      <td>Blue Cross</td>\n",
       "      <td>18856.281310</td>\n",
       "      <td>Urgent</td>\n",
       "      <td>02/02/24</td>\n",
       "      <td>Paracetamol</td>\n",
       "      <td>Normal</td>\n",
       "    </tr>\n",
       "    <tr>\n",
       "      <th>1</th>\n",
       "      <td>LesLie TErRy</td>\n",
       "      <td>62</td>\n",
       "      <td>Male</td>\n",
       "      <td>A+</td>\n",
       "      <td>Obesity</td>\n",
       "      <td>20/08/19</td>\n",
       "      <td>Samantha Davies</td>\n",
       "      <td>Kim Inc</td>\n",
       "      <td>Medicare</td>\n",
       "      <td>33643.327290</td>\n",
       "      <td>Emergency</td>\n",
       "      <td>26/08/19</td>\n",
       "      <td>Ibuprofen</td>\n",
       "      <td>Inconclusive</td>\n",
       "    </tr>\n",
       "    <tr>\n",
       "      <th>2</th>\n",
       "      <td>DaNnY sMitH</td>\n",
       "      <td>76</td>\n",
       "      <td>Female</td>\n",
       "      <td>A-</td>\n",
       "      <td>Obesity</td>\n",
       "      <td>22/09/22</td>\n",
       "      <td>Tiffany Mitchell</td>\n",
       "      <td>Cook PLC</td>\n",
       "      <td>Aetna</td>\n",
       "      <td>27955.096080</td>\n",
       "      <td>Emergency</td>\n",
       "      <td>07/10/22</td>\n",
       "      <td>Aspirin</td>\n",
       "      <td>Normal</td>\n",
       "    </tr>\n",
       "    <tr>\n",
       "      <th>3</th>\n",
       "      <td>andrEw waTtS</td>\n",
       "      <td>28</td>\n",
       "      <td>Female</td>\n",
       "      <td>O+</td>\n",
       "      <td>Diabetes</td>\n",
       "      <td>18/11/20</td>\n",
       "      <td>Kevin Wells</td>\n",
       "      <td>Hernandez Rogers and Vang,</td>\n",
       "      <td>Medicare</td>\n",
       "      <td>37909.782410</td>\n",
       "      <td>Elective</td>\n",
       "      <td>18/12/20</td>\n",
       "      <td>Ibuprofen</td>\n",
       "      <td>Abnormal</td>\n",
       "    </tr>\n",
       "    <tr>\n",
       "      <th>4</th>\n",
       "      <td>adrIENNE bEll</td>\n",
       "      <td>43</td>\n",
       "      <td>Female</td>\n",
       "      <td>AB+</td>\n",
       "      <td>Cancer</td>\n",
       "      <td>19/09/22</td>\n",
       "      <td>Kathleen Hanna</td>\n",
       "      <td>White-White</td>\n",
       "      <td>Aetna</td>\n",
       "      <td>14238.317810</td>\n",
       "      <td>Urgent</td>\n",
       "      <td>09/10/22</td>\n",
       "      <td>Penicillin</td>\n",
       "      <td>Abnormal</td>\n",
       "    </tr>\n",
       "    <tr>\n",
       "      <th>...</th>\n",
       "      <td>...</td>\n",
       "      <td>...</td>\n",
       "      <td>...</td>\n",
       "      <td>...</td>\n",
       "      <td>...</td>\n",
       "      <td>...</td>\n",
       "      <td>...</td>\n",
       "      <td>...</td>\n",
       "      <td>...</td>\n",
       "      <td>...</td>\n",
       "      <td>...</td>\n",
       "      <td>...</td>\n",
       "      <td>...</td>\n",
       "      <td>...</td>\n",
       "    </tr>\n",
       "    <tr>\n",
       "      <th>55495</th>\n",
       "      <td>eLIZABeTH jaCkSOn</td>\n",
       "      <td>42</td>\n",
       "      <td>Female</td>\n",
       "      <td>O+</td>\n",
       "      <td>Asthma</td>\n",
       "      <td>16/08/20</td>\n",
       "      <td>Joshua Jarvis</td>\n",
       "      <td>Jones-Thompson</td>\n",
       "      <td>Blue Cross</td>\n",
       "      <td>2650.714952</td>\n",
       "      <td>Elective</td>\n",
       "      <td>15/09/20</td>\n",
       "      <td>Penicillin</td>\n",
       "      <td>Abnormal</td>\n",
       "    </tr>\n",
       "    <tr>\n",
       "      <th>55496</th>\n",
       "      <td>KYle pEREz</td>\n",
       "      <td>61</td>\n",
       "      <td>Female</td>\n",
       "      <td>AB-</td>\n",
       "      <td>Obesity</td>\n",
       "      <td>23/01/20</td>\n",
       "      <td>Taylor Sullivan</td>\n",
       "      <td>Tucker-Moyer</td>\n",
       "      <td>Cigna</td>\n",
       "      <td>31457.797310</td>\n",
       "      <td>Elective</td>\n",
       "      <td>01/02/20</td>\n",
       "      <td>Aspirin</td>\n",
       "      <td>Normal</td>\n",
       "    </tr>\n",
       "    <tr>\n",
       "      <th>55497</th>\n",
       "      <td>HEATher WaNG</td>\n",
       "      <td>38</td>\n",
       "      <td>Female</td>\n",
       "      <td>B+</td>\n",
       "      <td>Hypertension</td>\n",
       "      <td>13/07/20</td>\n",
       "      <td>Joe Jacobs DVM</td>\n",
       "      <td>and Mahoney Johnson Vasquez,</td>\n",
       "      <td>UnitedHealthcare</td>\n",
       "      <td>27620.764720</td>\n",
       "      <td>Urgent</td>\n",
       "      <td>10/08/20</td>\n",
       "      <td>Ibuprofen</td>\n",
       "      <td>Abnormal</td>\n",
       "    </tr>\n",
       "    <tr>\n",
       "      <th>55498</th>\n",
       "      <td>JENniFER JOneS</td>\n",
       "      <td>43</td>\n",
       "      <td>Male</td>\n",
       "      <td>O-</td>\n",
       "      <td>Arthritis</td>\n",
       "      <td>25/05/19</td>\n",
       "      <td>Kimberly Curry</td>\n",
       "      <td>Jackson Todd and Castro,</td>\n",
       "      <td>Medicare</td>\n",
       "      <td>32451.092360</td>\n",
       "      <td>Elective</td>\n",
       "      <td>31/05/19</td>\n",
       "      <td>Ibuprofen</td>\n",
       "      <td>Abnormal</td>\n",
       "    </tr>\n",
       "    <tr>\n",
       "      <th>55499</th>\n",
       "      <td>jAMES GARCiA</td>\n",
       "      <td>53</td>\n",
       "      <td>Female</td>\n",
       "      <td>O+</td>\n",
       "      <td>Arthritis</td>\n",
       "      <td>02/04/24</td>\n",
       "      <td>Dennis Warren</td>\n",
       "      <td>Henry Sons and</td>\n",
       "      <td>Aetna</td>\n",
       "      <td>4010.134172</td>\n",
       "      <td>Urgent</td>\n",
       "      <td>29/04/24</td>\n",
       "      <td>Ibuprofen</td>\n",
       "      <td>Abnormal</td>\n",
       "    </tr>\n",
       "  </tbody>\n",
       "</table>\n",
       "<p>54966 rows × 14 columns</p>\n",
       "</div>"
      ],
      "text/plain": [
       "                    Name  Age  Gender Blood_Type Medical_Condition  \\\n",
       "0          Bobby JacksOn   30    Male         B-            Cancer   \n",
       "1           LesLie TErRy   62    Male         A+           Obesity   \n",
       "2            DaNnY sMitH   76  Female         A-           Obesity   \n",
       "3           andrEw waTtS   28  Female         O+          Diabetes   \n",
       "4          adrIENNE bEll   43  Female        AB+            Cancer   \n",
       "...                  ...  ...     ...        ...               ...   \n",
       "55495  eLIZABeTH jaCkSOn   42  Female         O+            Asthma   \n",
       "55496         KYle pEREz   61  Female        AB-           Obesity   \n",
       "55497       HEATher WaNG   38  Female         B+      Hypertension   \n",
       "55498     JENniFER JOneS   43    Male         O-         Arthritis   \n",
       "55499       jAMES GARCiA   53  Female         O+         Arthritis   \n",
       "\n",
       "      Date_of_Admission            Doctor                      Hospital  \\\n",
       "0              31/01/24     Matthew Smith               Sons and Miller   \n",
       "1              20/08/19   Samantha Davies                       Kim Inc   \n",
       "2              22/09/22  Tiffany Mitchell                      Cook PLC   \n",
       "3              18/11/20       Kevin Wells    Hernandez Rogers and Vang,   \n",
       "4              19/09/22    Kathleen Hanna                   White-White   \n",
       "...                 ...               ...                           ...   \n",
       "55495          16/08/20     Joshua Jarvis                Jones-Thompson   \n",
       "55496          23/01/20   Taylor Sullivan                  Tucker-Moyer   \n",
       "55497          13/07/20    Joe Jacobs DVM  and Mahoney Johnson Vasquez,   \n",
       "55498          25/05/19    Kimberly Curry      Jackson Todd and Castro,   \n",
       "55499          02/04/24     Dennis Warren                Henry Sons and   \n",
       "\n",
       "      Insurance_Provider  Billing_Amount Admission_Type Discharge_Date  \\\n",
       "0             Blue Cross    18856.281310         Urgent       02/02/24   \n",
       "1               Medicare    33643.327290      Emergency       26/08/19   \n",
       "2                  Aetna    27955.096080      Emergency       07/10/22   \n",
       "3               Medicare    37909.782410       Elective       18/12/20   \n",
       "4                  Aetna    14238.317810         Urgent       09/10/22   \n",
       "...                  ...             ...            ...            ...   \n",
       "55495         Blue Cross     2650.714952       Elective       15/09/20   \n",
       "55496              Cigna    31457.797310       Elective       01/02/20   \n",
       "55497   UnitedHealthcare    27620.764720         Urgent       10/08/20   \n",
       "55498           Medicare    32451.092360       Elective       31/05/19   \n",
       "55499              Aetna     4010.134172         Urgent       29/04/24   \n",
       "\n",
       "        Medication  Test_Results  \n",
       "0      Paracetamol        Normal  \n",
       "1        Ibuprofen  Inconclusive  \n",
       "2          Aspirin        Normal  \n",
       "3        Ibuprofen      Abnormal  \n",
       "4       Penicillin      Abnormal  \n",
       "...            ...           ...  \n",
       "55495   Penicillin      Abnormal  \n",
       "55496      Aspirin        Normal  \n",
       "55497    Ibuprofen      Abnormal  \n",
       "55498    Ibuprofen      Abnormal  \n",
       "55499    Ibuprofen      Abnormal  \n",
       "\n",
       "[54966 rows x 14 columns]"
      ]
     },
     "execution_count": 6,
     "metadata": {},
     "output_type": "execute_result"
    }
   ],
   "source": [
    "df.drop_duplicates()"
   ]
  },
  {
   "cell_type": "code",
   "execution_count": 7,
   "id": "2ca6cfc4-d271-4cb7-8389-beda49127018",
   "metadata": {},
   "outputs": [
    {
     "data": {
      "text/html": [
       "<div>\n",
       "<style scoped>\n",
       "    .dataframe tbody tr th:only-of-type {\n",
       "        vertical-align: middle;\n",
       "    }\n",
       "\n",
       "    .dataframe tbody tr th {\n",
       "        vertical-align: top;\n",
       "    }\n",
       "\n",
       "    .dataframe thead th {\n",
       "        text-align: right;\n",
       "    }\n",
       "</style>\n",
       "<table border=\"1\" class=\"dataframe\">\n",
       "  <thead>\n",
       "    <tr style=\"text-align: right;\">\n",
       "      <th></th>\n",
       "      <th>Age</th>\n",
       "      <th>Billing_Amount</th>\n",
       "    </tr>\n",
       "  </thead>\n",
       "  <tbody>\n",
       "    <tr>\n",
       "      <th>count</th>\n",
       "      <td>55500.000000</td>\n",
       "      <td>55500.000000</td>\n",
       "    </tr>\n",
       "    <tr>\n",
       "      <th>mean</th>\n",
       "      <td>51.539459</td>\n",
       "      <td>25539.316097</td>\n",
       "    </tr>\n",
       "    <tr>\n",
       "      <th>std</th>\n",
       "      <td>19.602454</td>\n",
       "      <td>14211.454431</td>\n",
       "    </tr>\n",
       "    <tr>\n",
       "      <th>min</th>\n",
       "      <td>13.000000</td>\n",
       "      <td>-2008.492140</td>\n",
       "    </tr>\n",
       "    <tr>\n",
       "      <th>25%</th>\n",
       "      <td>35.000000</td>\n",
       "      <td>13241.224655</td>\n",
       "    </tr>\n",
       "    <tr>\n",
       "      <th>50%</th>\n",
       "      <td>52.000000</td>\n",
       "      <td>25538.069380</td>\n",
       "    </tr>\n",
       "    <tr>\n",
       "      <th>75%</th>\n",
       "      <td>68.000000</td>\n",
       "      <td>37820.508432</td>\n",
       "    </tr>\n",
       "    <tr>\n",
       "      <th>max</th>\n",
       "      <td>89.000000</td>\n",
       "      <td>52764.276740</td>\n",
       "    </tr>\n",
       "  </tbody>\n",
       "</table>\n",
       "</div>"
      ],
      "text/plain": [
       "                Age  Billing_Amount\n",
       "count  55500.000000    55500.000000\n",
       "mean      51.539459    25539.316097\n",
       "std       19.602454    14211.454431\n",
       "min       13.000000    -2008.492140\n",
       "25%       35.000000    13241.224655\n",
       "50%       52.000000    25538.069380\n",
       "75%       68.000000    37820.508432\n",
       "max       89.000000    52764.276740"
      ]
     },
     "execution_count": 7,
     "metadata": {},
     "output_type": "execute_result"
    }
   ],
   "source": [
    "df.describe()"
   ]
  },
  {
   "cell_type": "code",
   "execution_count": 8,
   "id": "43dc76dc-3081-420d-a370-8bf4f66bb753",
   "metadata": {},
   "outputs": [
    {
     "data": {
      "text/plain": [
       "Name                   object\n",
       "Age                     int64\n",
       "Gender                 object\n",
       "Blood_Type             object\n",
       "Medical_Condition      object\n",
       "Date_of_Admission      object\n",
       "Doctor                 object\n",
       "Hospital               object\n",
       "Insurance_Provider     object\n",
       "Billing_Amount        float64\n",
       "Admission_Type         object\n",
       "Discharge_Date         object\n",
       "Medication             object\n",
       "Test_Results           object\n",
       "dtype: object"
      ]
     },
     "execution_count": 8,
     "metadata": {},
     "output_type": "execute_result"
    }
   ],
   "source": [
    "df.dtypes"
   ]
  },
  {
   "cell_type": "code",
   "execution_count": 9,
   "id": "8f16594c-5e7e-4b96-a1d7-bc4015834b64",
   "metadata": {},
   "outputs": [
    {
     "data": {
      "text/plain": [
       "Name                  0\n",
       "Age                   0\n",
       "Gender                0\n",
       "Blood_Type            0\n",
       "Medical_Condition     0\n",
       "Date_of_Admission     0\n",
       "Doctor                0\n",
       "Hospital              0\n",
       "Insurance_Provider    0\n",
       "Billing_Amount        0\n",
       "Admission_Type        0\n",
       "Discharge_Date        0\n",
       "Medication            0\n",
       "Test_Results          0\n",
       "dtype: int64"
      ]
     },
     "execution_count": 9,
     "metadata": {},
     "output_type": "execute_result"
    }
   ],
   "source": [
    "df.isnull().sum()"
   ]
  },
  {
   "cell_type": "code",
   "execution_count": 10,
   "id": "f2f9fa24-168a-4f16-8ff0-2b0fd0b09bff",
   "metadata": {},
   "outputs": [
    {
     "data": {
      "text/plain": [
       "Gender\n",
       "Male      27774\n",
       "Female    27726\n",
       "Name: count, dtype: int64"
      ]
     },
     "execution_count": 10,
     "metadata": {},
     "output_type": "execute_result"
    }
   ],
   "source": [
    "df['Gender'].value_counts()"
   ]
  },
  {
   "cell_type": "code",
   "execution_count": 11,
   "id": "52267e29-690f-4c5c-9ce4-0a18783fe0dd",
   "metadata": {},
   "outputs": [],
   "source": [
    "df.dropna(inplace=True)"
   ]
  },
  {
   "cell_type": "code",
   "execution_count": 12,
   "id": "23245798-3a9f-4396-896c-e3af257857dc",
   "metadata": {},
   "outputs": [
    {
     "data": {
      "text/plain": [
       "<Axes: ylabel='Frequency'>"
      ]
     },
     "execution_count": 12,
     "metadata": {},
     "output_type": "execute_result"
    },
    {
     "data": {
      "image/png": "[encoded data removed]",
      "text/plain": [
       "<Figure size 640x480 with 1 Axes>"
      ]
     },
     "metadata": {},
     "output_type": "display_data"
    }
   ],
   "source": [
    "df['Age'].plot.hist()"
   ]
  },
  {
   "cell_type": "code",
   "execution_count": 13,
   "id": "a2600c52-7198-4713-8868-c0d65041a8ae",
   "metadata": {},
   "outputs": [
    {
     "name": "stderr",
     "output_type": "stream",
     "text": [
      "/var/folders/_x/44rydz9n16917w41pq_6f2w40000gp/T/ipykernel_50926/3477756445.py:1: UserWarning: Could not infer format, so each element will be parsed individually, falling back to `dateutil`. To ensure parsing is consistent and as-expected, please specify a format.\n",
      "  df['Month']=pd.to_datetime(df[\"Date_of_Admission\"]).dt.month\n"
     ]
    },
    {
     "name": "stdout",
     "output_type": "stream",
     "text": [
      "                    Name  Age  Gender Blood_Type Medical_Condition  \\\n",
      "0          Bobby JacksOn   30    Male         B-            Cancer   \n",
      "1           LesLie TErRy   62    Male         A+           Obesity   \n",
      "2            DaNnY sMitH   76  Female         A-           Obesity   \n",
      "3           andrEw waTtS   28  Female         O+          Diabetes   \n",
      "4          adrIENNE bEll   43  Female        AB+            Cancer   \n",
      "...                  ...  ...     ...        ...               ...   \n",
      "55495  eLIZABeTH jaCkSOn   42  Female         O+            Asthma   \n",
      "55496         KYle pEREz   61  Female        AB-           Obesity   \n",
      "55497       HEATher WaNG   38  Female         B+      Hypertension   \n",
      "55498     JENniFER JOneS   43    Male         O-         Arthritis   \n",
      "55499       jAMES GARCiA   53  Female         O+         Arthritis   \n",
      "\n",
      "      Date_of_Admission            Doctor                      Hospital  \\\n",
      "0              31/01/24     Matthew Smith               Sons and Miller   \n",
      "1              20/08/19   Samantha Davies                       Kim Inc   \n",
      "2              22/09/22  Tiffany Mitchell                      Cook PLC   \n",
      "3              18/11/20       Kevin Wells    Hernandez Rogers and Vang,   \n",
      "4              19/09/22    Kathleen Hanna                   White-White   \n",
      "...                 ...               ...                           ...   \n",
      "55495          16/08/20     Joshua Jarvis                Jones-Thompson   \n",
      "55496          23/01/20   Taylor Sullivan                  Tucker-Moyer   \n",
      "55497          13/07/20    Joe Jacobs DVM  and Mahoney Johnson Vasquez,   \n",
      "55498          25/05/19    Kimberly Curry      Jackson Todd and Castro,   \n",
      "55499          02/04/24     Dennis Warren                Henry Sons and   \n",
      "\n",
      "      Insurance_Provider  Billing_Amount Admission_Type Discharge_Date  \\\n",
      "0             Blue Cross    18856.281310         Urgent       02/02/24   \n",
      "1               Medicare    33643.327290      Emergency       26/08/19   \n",
      "2                  Aetna    27955.096080      Emergency       07/10/22   \n",
      "3               Medicare    37909.782410       Elective       18/12/20   \n",
      "4                  Aetna    14238.317810         Urgent       09/10/22   \n",
      "...                  ...             ...            ...            ...   \n",
      "55495         Blue Cross     2650.714952       Elective       15/09/20   \n",
      "55496              Cigna    31457.797310       Elective       01/02/20   \n",
      "55497   UnitedHealthcare    27620.764720         Urgent       10/08/20   \n",
      "55498           Medicare    32451.092360       Elective       31/05/19   \n",
      "55499              Aetna     4010.134172         Urgent       29/04/24   \n",
      "\n",
      "        Medication  Test_Results  Month  \n",
      "0      Paracetamol        Normal      1  \n",
      "1        Ibuprofen  Inconclusive      8  \n",
      "2          Aspirin        Normal      9  \n",
      "3        Ibuprofen      Abnormal     11  \n",
      "4       Penicillin      Abnormal      9  \n",
      "...            ...           ...    ...  \n",
      "55495   Penicillin      Abnormal      8  \n",
      "55496      Aspirin        Normal      1  \n",
      "55497    Ibuprofen      Abnormal      7  \n",
      "55498    Ibuprofen      Abnormal      5  \n",
      "55499    Ibuprofen      Abnormal      2  \n",
      "\n",
      "[55500 rows x 15 columns]\n"
     ]
    }
   ],
   "source": [
    "df['Month']=pd.to_datetime(df[\"Date_of_Admission\"]).dt.month\n",
    "print(df)"
   ]
  },
  {
   "cell_type": "code",
   "execution_count": 14,
   "id": "2a4ce64d-ea76-4d4b-a7a7-1527ba5938ec",
   "metadata": {},
   "outputs": [
    {
     "data": {
      "text/plain": [
       "Index(['Name', 'Age', 'Gender', 'Blood_Type', 'Medical_Condition',\n",
       "       'Date_of_Admission', 'Doctor', 'Hospital', 'Insurance_Provider',\n",
       "       'Billing_Amount', 'Admission_Type', 'Discharge_Date', 'Medication',\n",
       "       'Test_Results', 'Month'],\n",
       "      dtype='object')"
      ]
     },
     "execution_count": 14,
     "metadata": {},
     "output_type": "execute_result"
    }
   ],
   "source": [
    "df.columns"
   ]
  },
  {
   "cell_type": "code",
   "execution_count": 15,
   "id": "82631bee-9f5d-4a5d-b893-947d80b739ba",
   "metadata": {},
   "outputs": [
    {
     "name": "stdout",
     "output_type": "stream",
     "text": [
      "                    Name  Age  Gender Blood_Type Medical_Condition  \\\n",
      "0          Bobby JacksOn   30    Male         B-            Cancer   \n",
      "1           LesLie TErRy   62    Male         A+           Obesity   \n",
      "2            DaNnY sMitH   76  Female         A-           Obesity   \n",
      "3           andrEw waTtS   28  Female         O+          Diabetes   \n",
      "4          adrIENNE bEll   43  Female        AB+            Cancer   \n",
      "...                  ...  ...     ...        ...               ...   \n",
      "55495  eLIZABeTH jaCkSOn   42  Female         O+            Asthma   \n",
      "55496         KYle pEREz   61  Female        AB-           Obesity   \n",
      "55497       HEATher WaNG   38  Female         B+      Hypertension   \n",
      "55498     JENniFER JOneS   43    Male         O-         Arthritis   \n",
      "55499       jAMES GARCiA   53  Female         O+         Arthritis   \n",
      "\n",
      "      Date_of_Admission            Doctor                      Hospital  \\\n",
      "0              31/01/24     Matthew Smith               Sons and Miller   \n",
      "1              20/08/19   Samantha Davies                       Kim Inc   \n",
      "2              22/09/22  Tiffany Mitchell                      Cook PLC   \n",
      "3              18/11/20       Kevin Wells    Hernandez Rogers and Vang,   \n",
      "4              19/09/22    Kathleen Hanna                   White-White   \n",
      "...                 ...               ...                           ...   \n",
      "55495          16/08/20     Joshua Jarvis                Jones-Thompson   \n",
      "55496          23/01/20   Taylor Sullivan                  Tucker-Moyer   \n",
      "55497          13/07/20    Joe Jacobs DVM  and Mahoney Johnson Vasquez,   \n",
      "55498          25/05/19    Kimberly Curry      Jackson Todd and Castro,   \n",
      "55499          02/04/24     Dennis Warren                Henry Sons and   \n",
      "\n",
      "      Insurance_Provider  Billing_Amount Admission_Type Discharge_Date  \\\n",
      "0             Blue Cross    18856.281310         Urgent       02/02/24   \n",
      "1               Medicare    33643.327290      Emergency       26/08/19   \n",
      "2                  Aetna    27955.096080      Emergency       07/10/22   \n",
      "3               Medicare    37909.782410       Elective       18/12/20   \n",
      "4                  Aetna    14238.317810         Urgent       09/10/22   \n",
      "...                  ...             ...            ...            ...   \n",
      "55495         Blue Cross     2650.714952       Elective       15/09/20   \n",
      "55496              Cigna    31457.797310       Elective       01/02/20   \n",
      "55497   UnitedHealthcare    27620.764720         Urgent       10/08/20   \n",
      "55498           Medicare    32451.092360       Elective       31/05/19   \n",
      "55499              Aetna     4010.134172         Urgent       29/04/24   \n",
      "\n",
      "        Medication  Test_Results  Month  Year  \n",
      "0      Paracetamol        Normal      1  2024  \n",
      "1        Ibuprofen  Inconclusive      8  2019  \n",
      "2          Aspirin        Normal      9  2022  \n",
      "3        Ibuprofen      Abnormal     11  2020  \n",
      "4       Penicillin      Abnormal      9  2022  \n",
      "...            ...           ...    ...   ...  \n",
      "55495   Penicillin      Abnormal      8  2020  \n",
      "55496      Aspirin        Normal      1  2020  \n",
      "55497    Ibuprofen      Abnormal      7  2020  \n",
      "55498    Ibuprofen      Abnormal      5  2019  \n",
      "55499    Ibuprofen      Abnormal      2  2024  \n",
      "\n",
      "[55500 rows x 16 columns]\n"
     ]
    }
   ],
   "source": [
    "df['Year']=pd.DatetimeIndex(df[\"Discharge_Date\"]).year\n",
    "print(df)"
   ]
  },
  {
   "cell_type": "code",
   "execution_count": 16,
   "id": "a6f55014-626f-4d00-a482-a07b35ba9d26",
   "metadata": {},
   "outputs": [
    {
     "data": {
      "text/plain": [
       "Index(['Name', 'Age', 'Gender', 'Blood_Type', 'Medical_Condition',\n",
       "       'Date_of_Admission', 'Doctor', 'Hospital', 'Insurance_Provider',\n",
       "       'Billing_Amount', 'Admission_Type', 'Discharge_Date', 'Medication',\n",
       "       'Test_Results', 'Month', 'Year'],\n",
       "      dtype='object')"
      ]
     },
     "execution_count": 16,
     "metadata": {},
     "output_type": "execute_result"
    }
   ],
   "source": [
    "df.columns"
   ]
  },
  {
   "cell_type": "code",
   "execution_count": 17,
   "id": "954dd23f-e29a-4b1f-90c3-0b3d84c541f8",
   "metadata": {},
   "outputs": [
    {
     "data": {
      "image/png": "[encoded data removed]",
      "text/plain": [
       "<Figure size 640x480 with 1 Axes>"
      ]
     },
     "metadata": {},
     "output_type": "display_data"
    }
   ],
   "source": [
    "sns.lineplot(x=\"Month\",y=\"Year\",data=df)\n",
    "plt.title(\"Recovery Patient Trends\",fontsize=20,fontweight=\"bold\")\n",
    "plt.xlabel(\"Month\",fontsize=10,fontweight=\"bold\")\n",
    "plt.ylabel(\"Year\",fontsize=10,fontweight=\"bold\")\n",
    "plt.show()"
   ]
  },
  {
   "cell_type": "code",
   "execution_count": 21,
   "id": "edd5fcf3-fa40-4669-9d5b-8b4f36d390f6",
   "metadata": {},
   "outputs": [],
   "source": [
    "df.to_csv(\"healthcare_dataset.csv\")"
   ]
  },
  {
   "cell_type": "code",
   "execution_count": 19,
   "id": "429c0b97-f0ba-41ae-b14c-619701fae411",
   "metadata": {},
   "outputs": [
    {
     "name": "stdout",
     "output_type": "stream",
     "text": [
      "Requirement already satisfied: Pymysql in /Library/Frameworks/Python.framework/Versions/3.13/lib/python3.13/site-packages (1.1.1)\n",
      "\n",
      "\u001b[1m[\u001b[0m\u001b[34;49mnotice\u001b[0m\u001b[1;39;49m]\u001b[0m\u001b[39;49m A new release of pip is available: \u001b[0m\u001b[31;49m24.2\u001b[0m\u001b[39;49m -> \u001b[0m\u001b[32;49m25.0.1\u001b[0m\n",
      "\u001b[1m[\u001b[0m\u001b[34;49mnotice\u001b[0m\u001b[1;39;49m]\u001b[0m\u001b[39;49m To update, run: \u001b[0m\u001b[32;49mpip3 install --upgrade pip\u001b[0m\n",
      "Note: you may need to restart the kernel to use updated packages.\n"
     ]
    }
   ],
   "source": [
    "pip install Pymysql"
   ]
  },
  {
   "cell_type": "code",
   "execution_count": 20,
   "id": "b4dd64a8-56da-49b0-965c-40400e8311e5",
   "metadata": {},
   "outputs": [
    {
     "name": "stdout",
     "output_type": "stream",
     "text": [
      "Requirement already satisfied: sqlalchemy in /Library/Frameworks/Python.framework/Versions/3.13/lib/python3.13/site-packages (2.0.39)\n",
      "Requirement already satisfied: greenlet!=0.4.17 in /Library/Frameworks/Python.framework/Versions/3.13/lib/python3.13/site-packages (from sqlalchemy) (3.1.1)\n",
      "Requirement already satisfied: typing-extensions>=4.6.0 in /Library/Frameworks/Python.framework/Versions/3.13/lib/python3.13/site-packages (from sqlalchemy) (4.12.2)\n",
      "\n",
      "\u001b[1m[\u001b[0m\u001b[34;49mnotice\u001b[0m\u001b[1;39;49m]\u001b[0m\u001b[39;49m A new release of pip is available: \u001b[0m\u001b[31;49m24.2\u001b[0m\u001b[39;49m -> \u001b[0m\u001b[32;49m25.0.1\u001b[0m\n",
      "\u001b[1m[\u001b[0m\u001b[34;49mnotice\u001b[0m\u001b[1;39;49m]\u001b[0m\u001b[39;49m To update, run: \u001b[0m\u001b[32;49mpip3 install --upgrade pip\u001b[0m\n",
      "Note: you may need to restart the kernel to use updated packages.\n"
     ]
    }
   ],
   "source": [
    "pip install sqlalchemy"
   ]
  },
  {
   "cell_type": "code",
   "execution_count": 21,
   "id": "2e827420-6f9f-44f4-a86f-c6f98b3e38d1",
   "metadata": {},
   "outputs": [
    {
     "data": {
      "text/plain": [
       "Index(['Name', 'Age', 'Gender', 'Blood_Type', 'Medical_Condition',\n",
       "       'Date_of_Admission', 'Doctor', 'Hospital', 'Insurance_Provider',\n",
       "       'Billing_Amount', 'Admission_Type', 'Discharge_Date', 'Medication',\n",
       "       'Test_Results', 'Month', 'Year'],\n",
       "      dtype='object')"
      ]
     },
     "execution_count": 21,
     "metadata": {},
     "output_type": "execute_result"
    }
   ],
   "source": [
    "df.columns"
   ]
  },
  {
   "cell_type": "code",
   "execution_count": 22,
   "id": "c38780c0-54f6-43e8-b796-a06fbb60d32a",
   "metadata": {},
   "outputs": [
    {
     "name": "stdout",
     "output_type": "stream",
     "text": [
      "Requirement already satisfied: SQLalchemy in /Library/Frameworks/Python.framework/Versions/3.13/lib/python3.13/site-packages (2.0.39)\n",
      "Requirement already satisfied: greenlet!=0.4.17 in /Library/Frameworks/Python.framework/Versions/3.13/lib/python3.13/site-packages (from SQLalchemy) (3.1.1)\n",
      "Requirement already satisfied: typing-extensions>=4.6.0 in /Library/Frameworks/Python.framework/Versions/3.13/lib/python3.13/site-packages (from SQLalchemy) (4.12.2)\n",
      "\n",
      "\u001b[1m[\u001b[0m\u001b[34;49mnotice\u001b[0m\u001b[1;39;49m]\u001b[0m\u001b[39;49m A new release of pip is available: \u001b[0m\u001b[31;49m24.2\u001b[0m\u001b[39;49m -> \u001b[0m\u001b[32;49m25.0.1\u001b[0m\n",
      "\u001b[1m[\u001b[0m\u001b[34;49mnotice\u001b[0m\u001b[1;39;49m]\u001b[0m\u001b[39;49m To update, run: \u001b[0m\u001b[32;49mpip3 install --upgrade pip\u001b[0m\n",
      "Note: you may need to restart the kernel to use updated packages.\n"
     ]
    }
   ],
   "source": [
    "pip install SQLalchemy\n"
   ]
  },
  {
   "cell_type": "code",
   "execution_count": 23,
   "id": "f1447e85-91ef-44f1-a318-089239c20276",
   "metadata": {},
   "outputs": [
    {
     "name": "stdout",
     "output_type": "stream",
     "text": [
      "Requirement already satisfied: pymysql in /Library/Frameworks/Python.framework/Versions/3.13/lib/python3.13/site-packages (1.1.1)\n",
      "\n",
      "\u001b[1m[\u001b[0m\u001b[34;49mnotice\u001b[0m\u001b[1;39;49m]\u001b[0m\u001b[39;49m A new release of pip is available: \u001b[0m\u001b[31;49m24.2\u001b[0m\u001b[39;49m -> \u001b[0m\u001b[32;49m25.0.1\u001b[0m\n",
      "\u001b[1m[\u001b[0m\u001b[34;49mnotice\u001b[0m\u001b[1;39;49m]\u001b[0m\u001b[39;49m To update, run: \u001b[0m\u001b[32;49mpip3 install --upgrade pip\u001b[0m\n",
      "Note: you may need to restart the kernel to use updated packages.\n"
     ]
    }
   ],
   "source": [
    "pip install pymysql\n"
   ]
  },
  {
   "cell_type": "code",
   "execution_count": 24,
   "id": "2e6231ac-2a2a-40d4-a6b8-e9002dea5f02",
   "metadata": {},
   "outputs": [
    {
     "name": "stdout",
     "output_type": "stream",
     "text": [
      "Requirement already satisfied: cryptography in /Library/Frameworks/Python.framework/Versions/3.13/lib/python3.13/site-packages (44.0.2)\n",
      "Requirement already satisfied: cffi>=1.12 in /Library/Frameworks/Python.framework/Versions/3.13/lib/python3.13/site-packages (from cryptography) (1.17.1)\n",
      "Requirement already satisfied: pycparser in /Library/Frameworks/Python.framework/Versions/3.13/lib/python3.13/site-packages (from cffi>=1.12->cryptography) (2.22)\n",
      "\n",
      "\u001b[1m[\u001b[0m\u001b[34;49mnotice\u001b[0m\u001b[1;39;49m]\u001b[0m\u001b[39;49m A new release of pip is available: \u001b[0m\u001b[31;49m24.2\u001b[0m\u001b[39;49m -> \u001b[0m\u001b[32;49m25.0.1\u001b[0m\n",
      "\u001b[1m[\u001b[0m\u001b[34;49mnotice\u001b[0m\u001b[1;39;49m]\u001b[0m\u001b[39;49m To update, run: \u001b[0m\u001b[32;49mpip3 install --upgrade pip\u001b[0m\n",
      "Note: you may need to restart the kernel to use updated packages.\n"
     ]
    }
   ],
   "source": [
    "pip install cryptography"
   ]
  },
  {
   "cell_type": "code",
   "execution_count": 25,
   "id": "5b4dd4d9-0eee-4cc8-9b0c-a48a0074900b",
   "metadata": {},
   "outputs": [
    {
     "name": "stdout",
     "output_type": "stream",
     "text": [
      "Requirement already satisfied: cryptography in /Library/Frameworks/Python.framework/Versions/3.13/lib/python3.13/site-packages (44.0.2)\n",
      "Requirement already satisfied: cffi>=1.12 in /Library/Frameworks/Python.framework/Versions/3.13/lib/python3.13/site-packages (from cryptography) (1.17.1)\n",
      "Requirement already satisfied: pycparser in /Library/Frameworks/Python.framework/Versions/3.13/lib/python3.13/site-packages (from cffi>=1.12->cryptography) (2.22)\n",
      "\n",
      "\u001b[1m[\u001b[0m\u001b[34;49mnotice\u001b[0m\u001b[1;39;49m]\u001b[0m\u001b[39;49m A new release of pip is available: \u001b[0m\u001b[31;49m24.2\u001b[0m\u001b[39;49m -> \u001b[0m\u001b[32;49m25.0.1\u001b[0m\n",
      "\u001b[1m[\u001b[0m\u001b[34;49mnotice\u001b[0m\u001b[1;39;49m]\u001b[0m\u001b[39;49m To update, run: \u001b[0m\u001b[32;49mpip3 install --upgrade pip\u001b[0m\n",
      "Note: you may need to restart the kernel to use updated packages.\n"
     ]
    }
   ],
   "source": [
    "pip install cryptography"
   ]
  },
  {
   "cell_type": "code",
   "execution_count": 26,
   "id": "b4c2d1e6-e8d6-49d1-b3de-c95727b96d09",
   "metadata": {},
   "outputs": [
    {
     "name": "stdout",
     "output_type": "stream",
     "text": [
      "Requirement already satisfied: cffi in /Library/Frameworks/Python.framework/Versions/3.13/lib/python3.13/site-packages (1.17.1)\n",
      "Requirement already satisfied: pycparser in /Library/Frameworks/Python.framework/Versions/3.13/lib/python3.13/site-packages (from cffi) (2.22)\n",
      "\n",
      "\u001b[1m[\u001b[0m\u001b[34;49mnotice\u001b[0m\u001b[1;39;49m]\u001b[0m\u001b[39;49m A new release of pip is available: \u001b[0m\u001b[31;49m24.2\u001b[0m\u001b[39;49m -> \u001b[0m\u001b[32;49m25.0.1\u001b[0m\n",
      "\u001b[1m[\u001b[0m\u001b[34;49mnotice\u001b[0m\u001b[1;39;49m]\u001b[0m\u001b[39;49m To update, run: \u001b[0m\u001b[32;49mpip3 install --upgrade pip\u001b[0m\n",
      "Note: you may need to restart the kernel to use updated packages.\n"
     ]
    }
   ],
   "source": [
    "pip install cffi --upgrade"
   ]
  },
  {
   "cell_type": "code",
   "execution_count": 27,
   "id": "f0a57bd4-ccfe-4aac-885f-cc2f05aca55b",
   "metadata": {},
   "outputs": [
    {
     "name": "stdout",
     "output_type": "stream",
     "text": [
      "Name: cryptography\n",
      "Version: 44.0.2\n",
      "Summary: cryptography is a package which provides cryptographic recipes and primitives to Python developers.\n",
      "Home-page: https://github.com/pyca/cryptography\n",
      "Author: The cryptography developers <cryptography-dev@python.org>\n",
      "Author-email: The Python Cryptographic Authority and individual contributors <cryptography-dev@python.org>\n",
      "License: Apache-2.0 OR BSD-3-Clause\n",
      "Location: /Library/Frameworks/Python.framework/Versions/3.13/lib/python3.13/site-packages\n",
      "Requires: cffi\n",
      "Required-by: \n",
      "Note: you may need to restart the kernel to use updated packages.\n"
     ]
    }
   ],
   "source": [
    "pip show cryptography"
   ]
  },
  {
   "cell_type": "code",
   "execution_count": 15,
   "id": "988ffe65-083b-400b-8e5f-3173242f2194",
   "metadata": {},
   "outputs": [
    {
     "name": "stdout",
     "output_type": "stream",
     "text": [
      "Requirement already satisfied: sqlalchemy in /Library/Frameworks/Python.framework/Versions/3.13/lib/python3.13/site-packages (2.0.39)\n",
      "Requirement already satisfied: greenlet!=0.4.17 in /Library/Frameworks/Python.framework/Versions/3.13/lib/python3.13/site-packages (from sqlalchemy) (3.1.1)\n",
      "Requirement already satisfied: typing-extensions>=4.6.0 in /Library/Frameworks/Python.framework/Versions/3.13/lib/python3.13/site-packages (from sqlalchemy) (4.12.2)\n",
      "\n",
      "\u001b[1m[\u001b[0m\u001b[34;49mnotice\u001b[0m\u001b[1;39;49m]\u001b[0m\u001b[39;49m A new release of pip is available: \u001b[0m\u001b[31;49m24.2\u001b[0m\u001b[39;49m -> \u001b[0m\u001b[32;49m25.0.1\u001b[0m\n",
      "\u001b[1m[\u001b[0m\u001b[34;49mnotice\u001b[0m\u001b[1;39;49m]\u001b[0m\u001b[39;49m To update, run: \u001b[0m\u001b[32;49mpip3 install --upgrade pip\u001b[0m\n",
      "Note: you may need to restart the kernel to use updated packages.\n"
     ]
    }
   ],
   "source": [
    "pip install sqlalchemy\n"
   ]
  },
  {
   "cell_type": "code",
   "execution_count": 1,
   "id": "85aa0592-4a7e-48bd-8a26-e1c42ea6764c",
   "metadata": {},
   "outputs": [
    {
     "name": "stdout",
     "output_type": "stream",
     "text": [
      "Requirement already satisfied: pandas in /Library/Frameworks/Python.framework/Versions/3.13/lib/python3.13/site-packages (2.2.3)\n",
      "Collecting mysql-connector-python\n",
      "  Downloading mysql_connector_python-9.2.0-py2.py3-none-any.whl.metadata (6.0 kB)\n",
      "Requirement already satisfied: numpy>=1.26.0 in /Library/Frameworks/Python.framework/Versions/3.13/lib/python3.13/site-packages (from pandas) (2.2.3)\n",
      "Requirement already satisfied: python-dateutil>=2.8.2 in /Library/Frameworks/Python.framework/Versions/3.13/lib/python3.13/site-packages (from pandas) (2.9.0.post0)\n",
      "Requirement already satisfied: pytz>=2020.1 in /Library/Frameworks/Python.framework/Versions/3.13/lib/python3.13/site-packages (from pandas) (2025.1)\n",
      "Requirement already satisfied: tzdata>=2022.7 in /Library/Frameworks/Python.framework/Versions/3.13/lib/python3.13/site-packages (from pandas) (2025.1)\n",
      "Requirement already satisfied: six>=1.5 in /Library/Frameworks/Python.framework/Versions/3.13/lib/python3.13/site-packages (from python-dateutil>=2.8.2->pandas) (1.16.0)\n",
      "Downloading mysql_connector_python-9.2.0-py2.py3-none-any.whl (398 kB)\n",
      "Installing collected packages: mysql-connector-python\n",
      "Successfully installed mysql-connector-python-9.2.0\n",
      "\n",
      "\u001b[1m[\u001b[0m\u001b[34;49mnotice\u001b[0m\u001b[1;39;49m]\u001b[0m\u001b[39;49m A new release of pip is available: \u001b[0m\u001b[31;49m24.2\u001b[0m\u001b[39;49m -> \u001b[0m\u001b[32;49m25.0.1\u001b[0m\n",
      "\u001b[1m[\u001b[0m\u001b[34;49mnotice\u001b[0m\u001b[1;39;49m]\u001b[0m\u001b[39;49m To update, run: \u001b[0m\u001b[32;49mpip3 install --upgrade pip\u001b[0m\n",
      "Note: you may need to restart the kernel to use updated packages.\n"
     ]
    }
   ],
   "source": [
    "pip install pandas mysql-connector-python"
   ]
  },
  {
   "cell_type": "code",
   "execution_count": 5,
   "id": "4dd67837-da94-4319-aaa9-12e8969bcc03",
   "metadata": {},
   "outputs": [
    {
     "name": "stdout",
     "output_type": "stream",
     "text": [
      "zsh:1: command not found: pip\n"
     ]
    }
   ],
   "source": [
    "!pip install mysql-connector-python\n"
   ]
  },
  {
   "cell_type": "code",
   "execution_count": 6,
   "id": "fd2aa85d-f31c-43c2-a8f6-09dbacbfb88d",
   "metadata": {},
   "outputs": [
    {
     "name": "stdout",
     "output_type": "stream",
     "text": [
      "Requirement already satisfied: mysql-connector-python in /Library/Frameworks/Python.framework/Versions/3.13/lib/python3.13/site-packages (9.2.0)\n",
      "\n",
      "\u001b[1m[\u001b[0m\u001b[34;49mnotice\u001b[0m\u001b[1;39;49m]\u001b[0m\u001b[39;49m A new release of pip is available: \u001b[0m\u001b[31;49m24.2\u001b[0m\u001b[39;49m -> \u001b[0m\u001b[32;49m25.0.1\u001b[0m\n",
      "\u001b[1m[\u001b[0m\u001b[34;49mnotice\u001b[0m\u001b[1;39;49m]\u001b[0m\u001b[39;49m To update, run: \u001b[0m\u001b[32;49mpip3 install --upgrade pip\u001b[0m\n"
     ]
    }
   ],
   "source": [
    "!pip3 install mysql-connector-python"
   ]
  },
  {
   "cell_type": "code",
   "execution_count": 7,
   "id": "32576f86-6ad6-491e-b18b-ce5c65138507",
   "metadata": {},
   "outputs": [],
   "source": [
    "import mysql.connector"
   ]
  },
  {
   "cell_type": "code",
   "execution_count": 8,
   "id": "b798fc41-0e78-4f6a-990c-5cc4487056b5",
   "metadata": {},
   "outputs": [],
   "source": [
    "from getpass import getpass"
   ]
  },
  {
   "cell_type": "code",
   "execution_count": 9,
   "id": "68c1d7aa-83ea-4545-a4bd-47027c5b5f00",
   "metadata": {},
   "outputs": [
    {
     "name": "stdin",
     "output_type": "stream",
     "text": [
      "enter your mysql password : ········\n"
     ]
    }
   ],
   "source": [
    "password=getpass(\"enter your mysql password :\")"
   ]
  },
  {
   "cell_type": "code",
   "execution_count": 10,
   "id": "a90ba7a5-c889-4a85-9a8c-246f1deb2d7f",
   "metadata": {},
   "outputs": [
    {
     "name": "stdout",
     "output_type": "stream",
     "text": [
      "connection established successfully\n"
     ]
    }
   ],
   "source": [
    "try:\n",
    "    mydb=mysql.connector.connect(\n",
    "        host=\"localhost\",\n",
    "        user=\"root\",\n",
    "        password=password\n",
    "    )\n",
    "\n",
    "except mysql.connector.Error as err:\n",
    "    print(\"connection failed\",err)\n",
    "else:\n",
    "    print(\"connection established successfully\")"
   ]
  },
  {
   "cell_type": "code",
   "execution_count": 11,
   "id": "46a67a37-eca7-4932-96ad-aafed315a514",
   "metadata": {},
   "outputs": [],
   "source": [
    "mycursor=mydb.cursor()"
   ]
  },
  {
   "cell_type": "code",
   "execution_count": 12,
   "id": "886289e5-d97a-475f-a2e5-02e7f7955f05",
   "metadata": {},
   "outputs": [
    {
     "name": "stdout",
     "output_type": "stream",
     "text": [
      "('da_october',)\n",
      "('information_schema',)\n",
      "('mysql',)\n",
      "('performance_schema',)\n",
      "('sys',)\n"
     ]
    }
   ],
   "source": [
    "mycursor.execute(\"show databases\")\n",
    "for db in mycursor:\n",
    "    print(db)"
   ]
  },
  {
   "cell_type": "code",
   "execution_count": 22,
   "id": "3048069a-0a74-456d-9b11-e79a769990b4",
   "metadata": {},
   "outputs": [
    {
     "name": "stdout",
     "output_type": "stream",
     "text": [
      "Requirement already satisfied: sqlalchemy in /Library/Frameworks/Python.framework/Versions/3.13/lib/python3.13/site-packages (2.0.39)\n",
      "Requirement already satisfied: pandas in /Library/Frameworks/Python.framework/Versions/3.13/lib/python3.13/site-packages (2.2.3)\n",
      "Requirement already satisfied: greenlet!=0.4.17 in /Library/Frameworks/Python.framework/Versions/3.13/lib/python3.13/site-packages (from sqlalchemy) (3.1.1)\n",
      "Requirement already satisfied: typing-extensions>=4.6.0 in /Library/Frameworks/Python.framework/Versions/3.13/lib/python3.13/site-packages (from sqlalchemy) (4.12.2)\n",
      "Requirement already satisfied: numpy>=1.26.0 in /Library/Frameworks/Python.framework/Versions/3.13/lib/python3.13/site-packages (from pandas) (2.2.3)\n",
      "Requirement already satisfied: python-dateutil>=2.8.2 in /Library/Frameworks/Python.framework/Versions/3.13/lib/python3.13/site-packages (from pandas) (2.9.0.post0)\n",
      "Requirement already satisfied: pytz>=2020.1 in /Library/Frameworks/Python.framework/Versions/3.13/lib/python3.13/site-packages (from pandas) (2025.1)\n",
      "Requirement already satisfied: tzdata>=2022.7 in /Library/Frameworks/Python.framework/Versions/3.13/lib/python3.13/site-packages (from pandas) (2025.1)\n",
      "Requirement already satisfied: six>=1.5 in /Library/Frameworks/Python.framework/Versions/3.13/lib/python3.13/site-packages (from python-dateutil>=2.8.2->pandas) (1.16.0)\n",
      "\n",
      "\u001b[1m[\u001b[0m\u001b[34;49mnotice\u001b[0m\u001b[1;39;49m]\u001b[0m\u001b[39;49m A new release of pip is available: \u001b[0m\u001b[31;49m24.2\u001b[0m\u001b[39;49m -> \u001b[0m\u001b[32;49m25.0.1\u001b[0m\n",
      "\u001b[1m[\u001b[0m\u001b[34;49mnotice\u001b[0m\u001b[1;39;49m]\u001b[0m\u001b[39;49m To update, run: \u001b[0m\u001b[32;49mpip3 install --upgrade pip\u001b[0m\n",
      "Note: you may need to restart the kernel to use updated packages.\n"
     ]
    }
   ],
   "source": [
    "pip install sqlalchemy pandas"
   ]
  },
  {
   "cell_type": "raw",
   "id": "5dcf4a83-59a1-441a-8684-85387a06e267",
   "metadata": {},
   "source": []
  },
  {
   "cell_type": "code",
   "execution_count": null,
   "id": "86061671-440b-4d5d-a02d-a3b6aed8e979",
   "metadata": {},
   "outputs": [],
   "source": [
    "import pandas as pd\n",
    "from sqlalchemy import create_engine\n",
    "\n",
    "host=\"localhost\"\n",
    "user=\"root\"\n",
    "password=\" \"\n",
    "port=3306\n",
    "database=\"da_october\"\n",
    "\n",
    "\n",
    "\n",
    "engine=create_engine(f\"mysql+pymysql://{user}:{password}@{host}:{port}/{database}\")\n",
    "df=pd.read_csv(\"/Users/nikhil/Downloads/healthcare_dataset-2.csv\")\n",
    "df.to_sql(name=\"healthcare_management\",con=engine,if_exists=\"replace\",index=False)\n",
    "print(\"data inserted successfully\")"
   ]
  },
  {
   "cell_type": "code",
   "execution_count": null,
   "id": "f92d658c-5264-4667-bebe-8a56658bf1af",
   "metadata": {},
   "outputs": [],
   "source": []
  },
  {
   "cell_type": "code",
   "execution_count": null,
   "id": "cf3fd8cd-470d-4300-a5d3-0907854dc6cf",
   "metadata": {},
   "outputs": [],
   "source": []
  }
 ],
 "metadata": {
  "kernelspec": {
   "display_name": "Python 3 (ipykernel)",
   "language": "python",
   "name": "python3"
  },
  "language_info": {
   "codemirror_mode": {
    "name": "ipython",
    "version": 3
   },
   "file_extension": ".py",
   "mimetype": "text/x-python",
   "name": "python",
   "nbconvert_exporter": "python",
   "pygments_lexer": "ipython3",
   "version": "3.13.0"
  }
 },
 "nbformat": 4,
 "nbformat_minor": 5
}
